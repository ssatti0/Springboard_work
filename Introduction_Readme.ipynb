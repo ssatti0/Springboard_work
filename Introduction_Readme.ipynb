{
 "cells": [
  {
   "cell_type": "markdown",
   "metadata": {},
   "source": [
    "### Welcome!!\n",
    "This space is a documentation of my journey towards becoming a data scientist. All my projects from Springboard will be housed here, including the Capstone 1 & 2 projects.\n",
    "\n",
    "To learn more about my professional interests and experience, please visit my [linkedIn profile](https://www.linkedin.com/in/sara-satti-546b5b53/)"
   ]
  },
  {
   "cell_type": "code",
   "execution_count": null,
   "metadata": {},
   "outputs": [],
   "source": []
  }
 ],
 "metadata": {
  "kernelspec": {
   "display_name": "Python 3",
   "language": "python",
   "name": "python3"
  },
  "language_info": {
   "codemirror_mode": {
    "name": "ipython",
    "version": 3
   },
   "file_extension": ".py",
   "mimetype": "text/x-python",
   "name": "python",
   "nbconvert_exporter": "python",
   "pygments_lexer": "ipython3",
   "version": "3.7.3"
  }
 },
 "nbformat": 4,
 "nbformat_minor": 2
}
