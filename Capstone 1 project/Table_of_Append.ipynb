{
 "cells": [
  {
   "cell_type": "markdown",
   "metadata": {},
   "source": [
    "Hobson, this here summarizes the issue I've been getting with the 'hyper_table'. You'll see that the output dictionaries, hyper_params0 and hyper_params1 contains all the necessary information when printed out immediately after each operation. However, when I writeout the final appended hyper_table, I find that each model's output is **overwritten** by the last run."
   ]
  },
  {
   "cell_type": "code",
   "execution_count": 1,
   "metadata": {},
   "outputs": [],
   "source": [
    "import numpy as np\n",
    "import pandas as pd"
   ]
  },
  {
   "cell_type": "code",
   "execution_count": 48,
   "metadata": {},
   "outputs": [],
   "source": [
    "from sklearn.model_selection import train_test_split\n",
    "from sklearn.linear_model import Lasso\n",
    "from sklearn.linear_model import SGDRegressor\n",
    "from sklearn.metrics import mean_squared_error\n",
    "from math import sqrt\n",
    "\n",
    "from sklearn.preprocessing import StandardScaler"
   ]
  },
  {
   "cell_type": "code",
   "execution_count": 74,
   "metadata": {},
   "outputs": [],
   "source": [
    "df = pd.read_csv('test_batch4_rs_1k.csv')"
   ]
  },
  {
   "cell_type": "code",
   "execution_count": 76,
   "metadata": {},
   "outputs": [],
   "source": [
    "df.drop(['Unnamed: 0'], axis=1, inplace=True)"
   ]
  },
  {
   "cell_type": "code",
   "execution_count": 78,
   "metadata": {},
   "outputs": [],
   "source": [
    "# list of 'Blocks' of features used in testing:\n",
    "\n",
    "# Features excluded from model tests:\n",
    "excluded_features = ['ID', 'Source', 'TMC', 'End_Lat', 'End_Lng', 'Street', 'City', 'Country','Description',\n",
    "                     'Number','End_Time', 'County','Zipcode','Timezone', 'Airport_Code', \n",
    "                     'Civil_Twilight', 'Astronomical_Twilight', 'Nautical_Twilight', 'Weather_Timestamp',\n",
    "                    'Start_Time']\n",
    "\n",
    "# Basic numeric features:\n",
    "basic_features = ['Severity','Start_Lat', 'Start_Lng', 'Distance(mi)', 'Precipitation_filled',\n",
    "                 'Wind_Speed_filled_median', 'Humidity_filled_mean', 'Temperature_filled_mean',\n",
    "                 'Visibility_filled_mean', 'Pressure_filled_mean', 'Wind_Chill_predicted_filled']\n",
    "\n",
    "\n",
    "# Features replaced by *filled_mean or median:\n",
    "replaced_features = ['Temperature(F)', 'Wind_Chill(F)', 'Humidity(%)', 'Pressure(in)',\n",
    "                    'Visibility(mi)', 'Wind_Speed(mph)', 'Precipitation(in)',\n",
    "                    'Wind_Speed_filled_mean', 'Temperature_filled_median']\n",
    "\n",
    "# Traffic points of interest:\n",
    "features_all_points_of_interest_bool = ['Traffic_Signal', 'Junction', 'Amenity','Bump',\n",
    "                                    'Crossing','Give_Way','No_Exit', 'Railway','Roundabout',\n",
    "                                    'Stop','Station','Traffic_Calming','Turning_Loop']\n",
    "\n",
    "# wasnull features:\n",
    "features_weather_wasnull = ['Precipitation_wasnull','Wind_Chill_wasnull','Wind_Speed_wasnull',\n",
    "                            'Visibility_wasnull','Humidity_wasnull','Temperature_wasnull',\n",
    "                            'Pressure_wasnull']\n"
   ]
  },
  {
   "cell_type": "code",
   "execution_count": 81,
   "metadata": {},
   "outputs": [],
   "source": [
    "# Split data into features and target data:\n",
    "X = test_batch4_rs_1k.iloc[:,1:]\n",
    "y = test_batch4_rs_1k.iloc[:,0]"
   ]
  },
  {
   "cell_type": "code",
   "execution_count": 82,
   "metadata": {},
   "outputs": [],
   "source": [
    "hyper_table = []"
   ]
  },
  {
   "cell_type": "code",
   "execution_count": 83,
   "metadata": {},
   "outputs": [],
   "source": [
    "X_train,X_test, y_train, y_test = train_test_split(X, y, test_size=0.3, random_state=12)"
   ]
  },
  {
   "cell_type": "code",
   "execution_count": 84,
   "metadata": {},
   "outputs": [],
   "source": [
    "hyper_params0 = {}"
   ]
  },
  {
   "cell_type": "code",
   "execution_count": 85,
   "metadata": {},
   "outputs": [
    {
     "name": "stdout",
     "output_type": "stream",
     "text": [
      "{'model': 'Lasso', 'alpha': 0.001, 'normalize': True, 'fit_intercept': True, 'test_score': 0.06335098931239613, 'train_score': 0.12404332653880057, 'test_rmse': 0.5221372476442108}\n",
      "{'model': 'Lasso', 'alpha': 0.01, 'normalize': True, 'fit_intercept': True, 'test_score': -0.00011218413155478224, 'train_score': 0.0, 'test_rmse': 0.5395362079859805}\n",
      "{'model': 'Lasso', 'alpha': 0.001, 'normalize': False, 'fit_intercept': True, 'test_score': 0.04787016080968198, 'train_score': 0.17979727473057894, 'test_rmse': 0.5264344769551053}\n",
      "{'model': 'Lasso', 'alpha': 0.01, 'normalize': False, 'fit_intercept': True, 'test_score': 0.05847942014007612, 'train_score': 0.08852823476088688, 'test_rmse': 0.52349332066216}\n"
     ]
    },
    {
     "name": "stderr",
     "output_type": "stream",
     "text": [
      "C:\\Users\\Toshiba\\Anaconda3\\lib\\site-packages\\sklearn\\linear_model\\coordinate_descent.py:492: ConvergenceWarning: Objective did not converge. You might want to increase the number of iterations. Fitting data with very small alpha may cause precision problems.\n",
      "  ConvergenceWarning)\n"
     ]
    }
   ],
   "source": [
    "normalizer = [True, False]\n",
    "alphas =[0.001, 0.01]\n",
    "for norm in normalizer:\n",
    "    for alpha in alphas:\n",
    "        #run Lasso using True / False\n",
    "        lasso = Lasso(alpha=alpha, normalize=norm, max_iter=100, selection='cyclic', \n",
    "                      fit_intercept=True, precompute=False, tol=0.0001)\n",
    "        hyper_params0['model'] = lasso.__class__.__name__\n",
    "        hyper_params0['alpha'] = lasso.alpha\n",
    "        hyper_params0['normalize'] = lasso.normalize\n",
    "        hyper_params0['fit_intercept'] = lasso.fit_intercept\n",
    "\n",
    "        # fit\n",
    "        lasso.fit(X_train,y_train)\n",
    "\n",
    "        #predict\n",
    "        lasso_pred = lasso.predict(X_test)\n",
    "\n",
    "        #Score\n",
    "        test_score = lasso.score(X_test,y_test)\n",
    "        train_score = lasso.score(X_train, y_train)\n",
    "        hyper_params0['test_score']= test_score\n",
    "        hyper_params0['train_score']= train_score\n",
    "\n",
    "        #RMSE\n",
    "        test_rmse = sqrt(mean_squared_error(y_test, lasso_pred))\n",
    "        hyper_params0['test_rmse'] = test_rmse\n",
    "\n",
    "        hyper_table.append(hyper_params0)\n",
    "        \n",
    "        print(hyper_params0)\n",
    "        "
   ]
  },
  {
   "cell_type": "markdown",
   "metadata": {},
   "source": [
    "hyper_params0, above has the expected information."
   ]
  },
  {
   "cell_type": "code",
   "execution_count": 86,
   "metadata": {},
   "outputs": [],
   "source": [
    "hyper_params1 = {}"
   ]
  },
  {
   "cell_type": "code",
   "execution_count": 87,
   "metadata": {},
   "outputs": [
    {
     "name": "stderr",
     "output_type": "stream",
     "text": [
      "C:\\Users\\Toshiba\\Anaconda3\\lib\\site-packages\\sklearn\\preprocessing\\data.py:645: DataConversionWarning: Data with input dtype bool, uint8, float64 were all converted to float64 by StandardScaler.\n",
      "  return self.partial_fit(X, y)\n",
      "C:\\Users\\Toshiba\\Anaconda3\\lib\\site-packages\\ipykernel_launcher.py:4: DataConversionWarning: Data with input dtype bool, uint8, float64 were all converted to float64 by StandardScaler.\n",
      "  after removing the cwd from sys.path.\n",
      "C:\\Users\\Toshiba\\Anaconda3\\lib\\site-packages\\ipykernel_launcher.py:5: DataConversionWarning: Data with input dtype bool, uint8, float64 were all converted to float64 by StandardScaler.\n",
      "  \"\"\"\n"
     ]
    }
   ],
   "source": [
    "# Scale/normalize the data:\n",
    "scaler = StandardScaler()\n",
    "scaler.fit(X_train)\n",
    "Xn_train = scaler.transform(X_train)\n",
    "Xn_test = scaler.transform(X_test)"
   ]
  },
  {
   "cell_type": "code",
   "execution_count": 88,
   "metadata": {},
   "outputs": [
    {
     "name": "stdout",
     "output_type": "stream",
     "text": [
      "{'model': 'SGDRegressor', 'alpha': 0.001, 'fit_intercept': True, 'test_score': -0.02922184366503533, 'train_score': 0.19840493336426968, 'test_rmse': 0.5397865955950206}\n",
      "{'model': 'SGDRegressor', 'alpha': 0.01, 'fit_intercept': True, 'test_score': -0.026197459493702894, 'train_score': 0.1983894152809421, 'test_rmse': 0.5397865955950206}\n"
     ]
    },
    {
     "name": "stderr",
     "output_type": "stream",
     "text": [
      "C:\\Users\\Toshiba\\Anaconda3\\lib\\site-packages\\sklearn\\linear_model\\stochastic_gradient.py:1229: ConvergenceWarning: Maximum number of iteration reached before convergence. Consider increasing max_iter to improve the fit.\n",
      "  ConvergenceWarning)\n",
      "C:\\Users\\Toshiba\\Anaconda3\\lib\\site-packages\\sklearn\\linear_model\\stochastic_gradient.py:1229: ConvergenceWarning: Maximum number of iteration reached before convergence. Consider increasing max_iter to improve the fit.\n",
      "  ConvergenceWarning)\n"
     ]
    }
   ],
   "source": [
    "\n",
    "alphas =[0.001, 0.01]\n",
    "\n",
    "for alpha in alphas:\n",
    "    #run Lasso using True / False\n",
    "    sgdregres = SGDRegressor(alpha=alpha, max_iter=10, loss='squared_loss',\n",
    "                            fit_intercept=True, random_state=12, tol=0.001)\n",
    "    hyper_params1['model'] = sgdregres.__class__.__name__\n",
    "    hyper_params1['alpha'] = sgdregres.alpha\n",
    "       \n",
    "    hyper_params1['fit_intercept'] = sgdregres.fit_intercept\n",
    "\n",
    "    # fit\n",
    "    sgdregres.fit(Xn_train,y_train)\n",
    "\n",
    "    #predict\n",
    "    sgdregres_pred = lasso.predict(Xn_test)\n",
    "\n",
    "    #Score\n",
    "    test_score = sgdregres.score(Xn_test,y_test)\n",
    "    train_score = sgdregres.score(Xn_train, y_train)\n",
    "    hyper_params1['test_score']= test_score\n",
    "    hyper_params1['train_score']= train_score\n",
    "        \n",
    "    #RMSE\n",
    "    test_rmse = sqrt(mean_squared_error(y_test, sgdregres_pred))\n",
    "    hyper_params1['test_rmse'] = test_rmse\n",
    "\n",
    "    #print hyper_params1 dictionary\n",
    "    print(hyper_params1)\n",
    "    \n",
    "    #append hyper_params1 to main hyper_table:\n",
    "    hyper_table.append(hyper_params1)"
   ]
  },
  {
   "cell_type": "markdown",
   "metadata": {},
   "source": [
    "hyper_params1 above has the expected information."
   ]
  },
  {
   "cell_type": "code",
   "execution_count": 89,
   "metadata": {},
   "outputs": [
    {
     "data": {
      "text/html": [
       "<div>\n",
       "<style scoped>\n",
       "    .dataframe tbody tr th:only-of-type {\n",
       "        vertical-align: middle;\n",
       "    }\n",
       "\n",
       "    .dataframe tbody tr th {\n",
       "        vertical-align: top;\n",
       "    }\n",
       "\n",
       "    .dataframe thead th {\n",
       "        text-align: right;\n",
       "    }\n",
       "</style>\n",
       "<table border=\"1\" class=\"dataframe\">\n",
       "  <thead>\n",
       "    <tr style=\"text-align: right;\">\n",
       "      <th></th>\n",
       "      <th>alpha</th>\n",
       "      <th>fit_intercept</th>\n",
       "      <th>model</th>\n",
       "      <th>normalize</th>\n",
       "      <th>test_rmse</th>\n",
       "      <th>test_score</th>\n",
       "      <th>train_score</th>\n",
       "    </tr>\n",
       "  </thead>\n",
       "  <tbody>\n",
       "    <tr>\n",
       "      <th>0</th>\n",
       "      <td>0.01</td>\n",
       "      <td>True</td>\n",
       "      <td>Lasso</td>\n",
       "      <td>False</td>\n",
       "      <td>0.523493</td>\n",
       "      <td>0.058479</td>\n",
       "      <td>0.088528</td>\n",
       "    </tr>\n",
       "    <tr>\n",
       "      <th>1</th>\n",
       "      <td>0.01</td>\n",
       "      <td>True</td>\n",
       "      <td>Lasso</td>\n",
       "      <td>False</td>\n",
       "      <td>0.523493</td>\n",
       "      <td>0.058479</td>\n",
       "      <td>0.088528</td>\n",
       "    </tr>\n",
       "    <tr>\n",
       "      <th>2</th>\n",
       "      <td>0.01</td>\n",
       "      <td>True</td>\n",
       "      <td>Lasso</td>\n",
       "      <td>False</td>\n",
       "      <td>0.523493</td>\n",
       "      <td>0.058479</td>\n",
       "      <td>0.088528</td>\n",
       "    </tr>\n",
       "    <tr>\n",
       "      <th>3</th>\n",
       "      <td>0.01</td>\n",
       "      <td>True</td>\n",
       "      <td>Lasso</td>\n",
       "      <td>False</td>\n",
       "      <td>0.523493</td>\n",
       "      <td>0.058479</td>\n",
       "      <td>0.088528</td>\n",
       "    </tr>\n",
       "    <tr>\n",
       "      <th>4</th>\n",
       "      <td>0.01</td>\n",
       "      <td>True</td>\n",
       "      <td>SGDRegressor</td>\n",
       "      <td>NaN</td>\n",
       "      <td>0.539787</td>\n",
       "      <td>-0.026197</td>\n",
       "      <td>0.198389</td>\n",
       "    </tr>\n",
       "    <tr>\n",
       "      <th>5</th>\n",
       "      <td>0.01</td>\n",
       "      <td>True</td>\n",
       "      <td>SGDRegressor</td>\n",
       "      <td>NaN</td>\n",
       "      <td>0.539787</td>\n",
       "      <td>-0.026197</td>\n",
       "      <td>0.198389</td>\n",
       "    </tr>\n",
       "  </tbody>\n",
       "</table>\n",
       "</div>"
      ],
      "text/plain": [
       "   alpha  fit_intercept         model normalize  test_rmse  test_score  \\\n",
       "0   0.01           True         Lasso     False   0.523493    0.058479   \n",
       "1   0.01           True         Lasso     False   0.523493    0.058479   \n",
       "2   0.01           True         Lasso     False   0.523493    0.058479   \n",
       "3   0.01           True         Lasso     False   0.523493    0.058479   \n",
       "4   0.01           True  SGDRegressor       NaN   0.539787   -0.026197   \n",
       "5   0.01           True  SGDRegressor       NaN   0.539787   -0.026197   \n",
       "\n",
       "   train_score  \n",
       "0     0.088528  \n",
       "1     0.088528  \n",
       "2     0.088528  \n",
       "3     0.088528  \n",
       "4     0.198389  \n",
       "5     0.198389  "
      ]
     },
     "execution_count": 89,
     "metadata": {},
     "output_type": "execute_result"
    }
   ],
   "source": [
    "pd.DataFrame(hyper_table)\n"
   ]
  },
  {
   "cell_type": "markdown",
   "metadata": {},
   "source": [
    "final hyper_table has the correct number of runs, but only the information of the last run in each algorithm is stored."
   ]
  },
  {
   "cell_type": "code",
   "execution_count": null,
   "metadata": {},
   "outputs": [],
   "source": []
  }
 ],
 "metadata": {
  "kernelspec": {
   "display_name": "Python 3",
   "language": "python",
   "name": "python3"
  },
  "language_info": {
   "codemirror_mode": {
    "name": "ipython",
    "version": 3
   },
   "file_extension": ".py",
   "mimetype": "text/x-python",
   "name": "python",
   "nbconvert_exporter": "python",
   "pygments_lexer": "ipython3",
   "version": "3.7.3"
  }
 },
 "nbformat": 4,
 "nbformat_minor": 2
}
