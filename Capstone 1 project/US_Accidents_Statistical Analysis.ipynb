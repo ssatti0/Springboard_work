{
 "cells": [
  {
   "cell_type": "code",
   "execution_count": 4,
   "metadata": {},
   "outputs": [],
   "source": [
    "import pandas as pd\n",
    "import numpy as np\n",
    "import matplotlib.pyplot as plt\n",
    "import seaborn as sns\n",
    "from scipy import stats\n",
    "\n",
    "%matplotlib inline"
   ]
  },
  {
   "cell_type": "code",
   "execution_count": 5,
   "metadata": {},
   "outputs": [],
   "source": [
    "df = pd.read_csv('dec19_400k_rs1_edt_fillna.csv')"
   ]
  },
  {
   "cell_type": "code",
   "execution_count": 9,
   "metadata": {},
   "outputs": [],
   "source": [
    "T0 = df[df['Severity'] < 3].Temperature_filled_mean"
   ]
  },
  {
   "cell_type": "code",
   "execution_count": 15,
   "metadata": {},
   "outputs": [
    {
     "data": {
      "text/plain": [
       "62.651764872609526"
      ]
     },
     "execution_count": 15,
     "metadata": {},
     "output_type": "execute_result"
    }
   ],
   "source": []
  },
  {
   "cell_type": "code",
   "execution_count": 28,
   "metadata": {},
   "outputs": [
    {
     "data": {
      "text/plain": [
       "18.50867658848927"
      ]
     },
     "execution_count": 28,
     "metadata": {},
     "output_type": "execute_result"
    }
   ],
   "source": []
  },
  {
   "cell_type": "code",
   "execution_count": 109,
   "metadata": {},
   "outputs": [
    {
     "name": "stdout",
     "output_type": "stream",
     "text": [
      "Severity_less_than_3 count: 268324  |  Severity_3_and_above count: 131676\n"
     ]
    }
   ],
   "source": [
    "print(\"Severity_less_than_3 count:\",T0.count(),\" | \", \"Severity_3_and_above count:\",T1.count())\n"
   ]
  },
  {
   "cell_type": "markdown",
   "metadata": {},
   "source": [
    "### Hypothesis testing\n",
    "Three features were picked for hypothesis testing. <br>\n",
    "**Null Hypothesis:** Preciptation / Temperature /Humidity have no impact on severity of road accidents.<br>\n",
    "**Alternate hypothesis:** Precipitation / Temperature /humidity have an observable effect on severity of road accidents.<br>\n",
    "\n",
    "#### Split data into two samples: \n",
    "High severity: Severity 1 & 2, [P0 / T0 / H0] (count: 268324) and <br>\n",
    "Low severity : Severity 3 & 4 [P1 / T1 /H1] (count: 131676)\n",
    "\n",
    "#### Results:\n",
    "**Precipitation**: <br>\n",
    "Difference in mean of P0 and P1 = -0.00217 <br>\n",
    "Reject the null hypothesis since p-value is zero. Precipitation has an impact on road accident severity. <br>\n",
    "Since lower severities have lower mean precipitation, this implies that higher precipitation leads to more severe road accidents.<br>\n",
    "\n",
    "**Temperature**: <br>\n",
    "Number of samples T0 / T1: 268324 / 131676.\n",
    "Reject the null hypothesis since p-value is zero Temperature does have an effect on accident severity. since T0 - T1 is positive(0.863), this implies the mean temperatures of severities 1 and 2 are *higer* than mean temperatures of severities 3 and 4. We can conclude that *lower* temperatures result in more severe accidents.<br>\n",
    "\n",
    "**Humidity**:<br>\n",
    "Reject the null hypothesis.<br>\n",
    "*Higher* precipitation results in more severe accidents. The mean difference in humidity between the two groups is about 0.9%.\n",
    "\n",
    "### Observation:\n",
    "Difference in the mean between the low severity and high severity groups is very small: 0.002inches for Precipitation, less than a degree F for Temperature, and less than 1% for Humidity.\n"
   ]
  },
  {
   "cell_type": "code",
   "execution_count": null,
   "metadata": {},
   "outputs": [],
   "source": [
    "stats.ttest_ind"
   ]
  },
  {
   "cell_type": "code",
   "execution_count": 38,
   "metadata": {},
   "outputs": [],
   "source": [
    "df_severity_under3 = df[df['Severity'] < 3]"
   ]
  },
  {
   "cell_type": "code",
   "execution_count": 39,
   "metadata": {},
   "outputs": [],
   "source": [
    "df_severity_over3 = df[df['Severity'] >= 3]"
   ]
  },
  {
   "cell_type": "code",
   "execution_count": 48,
   "metadata": {},
   "outputs": [],
   "source": [
    "P1 = df_severity_over3.Precipitation_filled\n",
    "P0 = df_severity_under3.Precipitation_filled"
   ]
  },
  {
   "cell_type": "code",
   "execution_count": 82,
   "metadata": {},
   "outputs": [],
   "source": [
    "T1 = df_severity_over3.Temperature_filled_mean\n",
    "T0 = df_severity_under3.Temperature_filled_mean"
   ]
  },
  {
   "cell_type": "code",
   "execution_count": 94,
   "metadata": {},
   "outputs": [],
   "source": [
    "H1 = df_severity_over3.Humidity_filled_mean\n",
    "H0 = df_severity_under3.Humidity_filled_mean"
   ]
  },
  {
   "cell_type": "code",
   "execution_count": 89,
   "metadata": {},
   "outputs": [],
   "source": [
    "def calc_n_mean_std(series):\n",
    "    \"\"\" calculate count, mean and standard deviation of input series\"\"\"\n",
    "    series_mean = round(np.mean(series), 5)\n",
    "    series_std = round(np.std(series), 3)\n",
    "    series_n = series.count()\n",
    "    return series_n, series_mean, series_std"
   ]
  },
  {
   "cell_type": "code",
   "execution_count": 90,
   "metadata": {},
   "outputs": [
    {
     "data": {
      "text/html": [
       "<div>\n",
       "<style scoped>\n",
       "    .dataframe tbody tr th:only-of-type {\n",
       "        vertical-align: middle;\n",
       "    }\n",
       "\n",
       "    .dataframe tbody tr th {\n",
       "        vertical-align: top;\n",
       "    }\n",
       "\n",
       "    .dataframe thead th {\n",
       "        text-align: right;\n",
       "    }\n",
       "</style>\n",
       "<table border=\"1\" class=\"dataframe\">\n",
       "  <thead>\n",
       "    <tr style=\"text-align: right;\">\n",
       "      <th></th>\n",
       "      <th>count, mean, std</th>\n",
       "    </tr>\n",
       "  </thead>\n",
       "  <tbody>\n",
       "    <tr>\n",
       "      <th>0</th>\n",
       "      <td>(268324, 0.00576, 0.122)</td>\n",
       "    </tr>\n",
       "    <tr>\n",
       "      <th>1</th>\n",
       "      <td>(131676, 0.00793, 0.136)</td>\n",
       "    </tr>\n",
       "  </tbody>\n",
       "</table>\n",
       "</div>"
      ],
      "text/plain": [
       "           count, mean, std\n",
       "0  (268324, 0.00576, 0.122)\n",
       "1  (131676, 0.00793, 0.136)"
      ]
     },
     "execution_count": 90,
     "metadata": {},
     "output_type": "execute_result"
    }
   ],
   "source": [
    "p1 = calc_n_mean_std(P1)\n",
    "p0 = calc_n_mean_std(P0)\n",
    "\n",
    "pd.DataFrame({'count, mean, std':(p0, p1)})"
   ]
  },
  {
   "cell_type": "code",
   "execution_count": 92,
   "metadata": {},
   "outputs": [
    {
     "data": {
      "text/plain": [
       "-0.002169999999999999"
      ]
     },
     "execution_count": 92,
     "metadata": {},
     "output_type": "execute_result"
    }
   ],
   "source": [
    "p0_p1_mean_diff = p0[1] - p1[1]\n",
    "p0_p1_mean_diff"
   ]
  },
  {
   "cell_type": "code",
   "execution_count": null,
   "metadata": {},
   "outputs": [],
   "source": []
  },
  {
   "cell_type": "code",
   "execution_count": null,
   "metadata": {},
   "outputs": [],
   "source": [
    "# calculating t-statistic and p-value using scipy.stats:\n",
    "\n",
    "tr = stats.ttest_ind(P0, P1, equal_var=False) # equal variance assumption\n",
    "print(\"p-value, \", tr[1], \"is very small. Reject Null hypothesis.\")\n",
    "print(\"'P1' has bigger effect on severity, since,\", round(tr[0], 3), \"is a -ve number\")"
   ]
  },
  {
   "cell_type": "code",
   "execution_count": 83,
   "metadata": {},
   "outputs": [
    {
     "data": {
      "text/html": [
       "<div>\n",
       "<style scoped>\n",
       "    .dataframe tbody tr th:only-of-type {\n",
       "        vertical-align: middle;\n",
       "    }\n",
       "\n",
       "    .dataframe tbody tr th {\n",
       "        vertical-align: top;\n",
       "    }\n",
       "\n",
       "    .dataframe thead th {\n",
       "        text-align: right;\n",
       "    }\n",
       "</style>\n",
       "<table border=\"1\" class=\"dataframe\">\n",
       "  <thead>\n",
       "    <tr style=\"text-align: right;\">\n",
       "      <th></th>\n",
       "      <th>count, mean, std</th>\n",
       "    </tr>\n",
       "  </thead>\n",
       "  <tbody>\n",
       "    <tr>\n",
       "      <th>0</th>\n",
       "      <td>(268324, 62.65176, 18.509)</td>\n",
       "    </tr>\n",
       "    <tr>\n",
       "      <th>1</th>\n",
       "      <td>(131676, 61.78809, 18.78)</td>\n",
       "    </tr>\n",
       "  </tbody>\n",
       "</table>\n",
       "</div>"
      ],
      "text/plain": [
       "             count, mean, std\n",
       "0  (268324, 62.65176, 18.509)\n",
       "1   (131676, 61.78809, 18.78)"
      ]
     },
     "execution_count": 83,
     "metadata": {},
     "output_type": "execute_result"
    }
   ],
   "source": [
    "t1 = calc_n_mean_std(T1)\n",
    "t0 = calc_n_mean_std(T0)\n",
    "\n",
    "pd.DataFrame({'count, mean, std':(t0, t1)})"
   ]
  },
  {
   "cell_type": "code",
   "execution_count": 85,
   "metadata": {},
   "outputs": [
    {
     "name": "stdout",
     "output_type": "stream",
     "text": [
      "p-value,  6.642916347297958e-43 is very small. Reject Null hypothesis.\n",
      "'T0' has bigger effect on severity, since, 13.733 is a +ve number\n"
     ]
    }
   ],
   "source": [
    "# calculating t-statistic and p-value using scipy.stats:\n",
    "\n",
    "tr_t = stats.ttest_ind(T0, T1, equal_var=False) # equal variance assumption\n",
    "print(\"p-value, \", tr_t[1], \"is very small. Reject Null hypothesis.\")\n",
    "print(\"'T0' has bigger effect on severity, since,\", round(tr_t[0], 3), \"is a +ve number\")"
   ]
  },
  {
   "cell_type": "code",
   "execution_count": 95,
   "metadata": {},
   "outputs": [
    {
     "data": {
      "text/plain": [
       "0.8636700000000062"
      ]
     },
     "execution_count": 95,
     "metadata": {},
     "output_type": "execute_result"
    }
   ],
   "source": [
    "t0_t1_mean_diff = t0[1] - t1[1]\n",
    "t0_t1_mean_diff"
   ]
  },
  {
   "cell_type": "code",
   "execution_count": 96,
   "metadata": {},
   "outputs": [
    {
     "data": {
      "text/html": [
       "<div>\n",
       "<style scoped>\n",
       "    .dataframe tbody tr th:only-of-type {\n",
       "        vertical-align: middle;\n",
       "    }\n",
       "\n",
       "    .dataframe tbody tr th {\n",
       "        vertical-align: top;\n",
       "    }\n",
       "\n",
       "    .dataframe thead th {\n",
       "        text-align: right;\n",
       "    }\n",
       "</style>\n",
       "<table border=\"1\" class=\"dataframe\">\n",
       "  <thead>\n",
       "    <tr style=\"text-align: right;\">\n",
       "      <th></th>\n",
       "      <th>count, mean, std</th>\n",
       "    </tr>\n",
       "  </thead>\n",
       "  <tbody>\n",
       "    <tr>\n",
       "      <th>0</th>\n",
       "      <td>(268324, 65.10025, 22.556)</td>\n",
       "    </tr>\n",
       "    <tr>\n",
       "      <th>1</th>\n",
       "      <td>(131676, 66.00628, 21.917)</td>\n",
       "    </tr>\n",
       "  </tbody>\n",
       "</table>\n",
       "</div>"
      ],
      "text/plain": [
       "             count, mean, std\n",
       "0  (268324, 65.10025, 22.556)\n",
       "1  (131676, 66.00628, 21.917)"
      ]
     },
     "execution_count": 96,
     "metadata": {},
     "output_type": "execute_result"
    }
   ],
   "source": [
    "h1 = calc_n_mean_std(H1)\n",
    "h0 = calc_n_mean_std(H0)\n",
    "\n",
    "pd.DataFrame({'count, mean, std':(h0, h1)})"
   ]
  },
  {
   "cell_type": "code",
   "execution_count": 98,
   "metadata": {},
   "outputs": [
    {
     "name": "stdout",
     "output_type": "stream",
     "text": [
      "p-value,  4.688265062255147e-34 is very small. Reject Null hypothesis.\n",
      "'H1' has bigger effect on severity, since, -12.168 is a -ve number\n"
     ]
    }
   ],
   "source": [
    "# calculating t-statistic and p-value using scipy.stats:\n",
    "\n",
    "tr_h = stats.ttest_ind(H0, H1, equal_var=False) # equal variance assumption\n",
    "print(\"p-value, \", tr_h[1], \"is very small. Reject Null hypothesis.\")\n",
    "print(\"'H1' has bigger effect on severity, since,\", round(tr_h[0], 3), \"is a -ve number\")"
   ]
  },
  {
   "cell_type": "code",
   "execution_count": 99,
   "metadata": {},
   "outputs": [
    {
     "data": {
      "text/plain": [
       "-0.9060300000000012"
      ]
     },
     "execution_count": 99,
     "metadata": {},
     "output_type": "execute_result"
    }
   ],
   "source": [
    "h0_h1_mean_diff = h0[1] - h1[1]\n",
    "h0_h1_mean_diff"
   ]
  },
  {
   "cell_type": "code",
   "execution_count": null,
   "metadata": {},
   "outputs": [],
   "source": []
  },
  {
   "cell_type": "code",
   "execution_count": null,
   "metadata": {},
   "outputs": [],
   "source": []
  },
  {
   "cell_type": "code",
   "execution_count": null,
   "metadata": {},
   "outputs": [],
   "source": []
  },
  {
   "cell_type": "code",
   "execution_count": 3,
   "metadata": {},
   "outputs": [
    {
     "data": {
      "text/html": [
       "<div>\n",
       "<style scoped>\n",
       "    .dataframe tbody tr th:only-of-type {\n",
       "        vertical-align: middle;\n",
       "    }\n",
       "\n",
       "    .dataframe tbody tr th {\n",
       "        vertical-align: top;\n",
       "    }\n",
       "\n",
       "    .dataframe thead th {\n",
       "        text-align: right;\n",
       "    }\n",
       "</style>\n",
       "<table border=\"1\" class=\"dataframe\">\n",
       "  <thead>\n",
       "    <tr style=\"text-align: right;\">\n",
       "      <th></th>\n",
       "      <th>Unnamed: 0</th>\n",
       "      <th>Unnamed: 0.1</th>\n",
       "      <th>Unnamed: 0.1.1</th>\n",
       "      <th>TMC</th>\n",
       "      <th>Severity</th>\n",
       "      <th>Start_Lat</th>\n",
       "      <th>Start_Lng</th>\n",
       "      <th>End_Lat</th>\n",
       "      <th>End_Lng</th>\n",
       "      <th>Distance(mi)</th>\n",
       "      <th>...</th>\n",
       "      <th>Precipitation(in)</th>\n",
       "      <th>Day_of_Week</th>\n",
       "      <th>Hour_of_Day</th>\n",
       "      <th>Precipitation_filled</th>\n",
       "      <th>Wind_Speed_filled_mean</th>\n",
       "      <th>Wind_Speed_filled_median</th>\n",
       "      <th>Humidity_filled_mean</th>\n",
       "      <th>Temperature_filled_median</th>\n",
       "      <th>Temperature_filled_mean</th>\n",
       "      <th>Wind_Chill_predicted_filled</th>\n",
       "    </tr>\n",
       "  </thead>\n",
       "  <tbody>\n",
       "    <tr>\n",
       "      <th>count</th>\n",
       "      <td>400000.000000</td>\n",
       "      <td>400000.000000</td>\n",
       "      <td>4.000000e+05</td>\n",
       "      <td>301701.000000</td>\n",
       "      <td>400000.000000</td>\n",
       "      <td>400000.000000</td>\n",
       "      <td>400000.000000</td>\n",
       "      <td>98299.000000</td>\n",
       "      <td>98299.000000</td>\n",
       "      <td>400000.000000</td>\n",
       "      <td>...</td>\n",
       "      <td>131252.000000</td>\n",
       "      <td>400000.000000</td>\n",
       "      <td>400000.000000</td>\n",
       "      <td>400000.000000</td>\n",
       "      <td>400000.000000</td>\n",
       "      <td>400000.000000</td>\n",
       "      <td>400000.000000</td>\n",
       "      <td>400000.000000</td>\n",
       "      <td>400000.000000</td>\n",
       "      <td>400000.000000</td>\n",
       "    </tr>\n",
       "    <tr>\n",
       "      <th>mean</th>\n",
       "      <td>199999.500000</td>\n",
       "      <td>199999.500000</td>\n",
       "      <td>1.490152e+06</td>\n",
       "      <td>207.841485</td>\n",
       "      <td>2.360142</td>\n",
       "      <td>36.493190</td>\n",
       "      <td>-95.418894</td>\n",
       "      <td>37.599169</td>\n",
       "      <td>-99.986740</td>\n",
       "      <td>0.287561</td>\n",
       "      <td>...</td>\n",
       "      <td>0.019732</td>\n",
       "      <td>2.384245</td>\n",
       "      <td>12.105915</td>\n",
       "      <td>0.006475</td>\n",
       "      <td>8.305884</td>\n",
       "      <td>8.113276</td>\n",
       "      <td>65.398506</td>\n",
       "      <td>62.405851</td>\n",
       "      <td>62.367451</td>\n",
       "      <td>60.481534</td>\n",
       "    </tr>\n",
       "    <tr>\n",
       "      <th>std</th>\n",
       "      <td>115470.198175</td>\n",
       "      <td>115470.198175</td>\n",
       "      <td>8.582070e+05</td>\n",
       "      <td>20.295358</td>\n",
       "      <td>0.541752</td>\n",
       "      <td>4.919935</td>\n",
       "      <td>17.210788</td>\n",
       "      <td>5.002061</td>\n",
       "      <td>18.415574</td>\n",
       "      <td>1.587642</td>\n",
       "      <td>...</td>\n",
       "      <td>0.220855</td>\n",
       "      <td>1.713651</td>\n",
       "      <td>5.096637</td>\n",
       "      <td>0.126850</td>\n",
       "      <td>4.500350</td>\n",
       "      <td>4.524111</td>\n",
       "      <td>22.351643</td>\n",
       "      <td>18.604781</td>\n",
       "      <td>18.602723</td>\n",
       "      <td>21.379503</td>\n",
       "    </tr>\n",
       "    <tr>\n",
       "      <th>min</th>\n",
       "      <td>0.000000</td>\n",
       "      <td>0.000000</td>\n",
       "      <td>1.200000e+01</td>\n",
       "      <td>200.000000</td>\n",
       "      <td>1.000000</td>\n",
       "      <td>24.570442</td>\n",
       "      <td>-124.497523</td>\n",
       "      <td>24.571534</td>\n",
       "      <td>-124.497442</td>\n",
       "      <td>0.000000</td>\n",
       "      <td>...</td>\n",
       "      <td>0.000000</td>\n",
       "      <td>0.000000</td>\n",
       "      <td>0.000000</td>\n",
       "      <td>0.000000</td>\n",
       "      <td>0.000000</td>\n",
       "      <td>0.000000</td>\n",
       "      <td>1.000000</td>\n",
       "      <td>-77.800000</td>\n",
       "      <td>-77.800000</td>\n",
       "      <td>-105.272215</td>\n",
       "    </tr>\n",
       "    <tr>\n",
       "      <th>25%</th>\n",
       "      <td>99999.750000</td>\n",
       "      <td>99999.750000</td>\n",
       "      <td>7.474690e+05</td>\n",
       "      <td>201.000000</td>\n",
       "      <td>2.000000</td>\n",
       "      <td>33.552807</td>\n",
       "      <td>-117.291287</td>\n",
       "      <td>33.959787</td>\n",
       "      <td>-118.286333</td>\n",
       "      <td>0.000000</td>\n",
       "      <td>...</td>\n",
       "      <td>0.000000</td>\n",
       "      <td>1.000000</td>\n",
       "      <td>8.000000</td>\n",
       "      <td>0.000000</td>\n",
       "      <td>5.800000</td>\n",
       "      <td>5.800000</td>\n",
       "      <td>49.000000</td>\n",
       "      <td>51.000000</td>\n",
       "      <td>51.000000</td>\n",
       "      <td>47.782983</td>\n",
       "    </tr>\n",
       "    <tr>\n",
       "      <th>50%</th>\n",
       "      <td>199999.500000</td>\n",
       "      <td>199999.500000</td>\n",
       "      <td>1.491116e+06</td>\n",
       "      <td>201.000000</td>\n",
       "      <td>2.000000</td>\n",
       "      <td>35.844623</td>\n",
       "      <td>-90.288139</td>\n",
       "      <td>37.929230</td>\n",
       "      <td>-96.628680</td>\n",
       "      <td>0.000000</td>\n",
       "      <td>...</td>\n",
       "      <td>0.000000</td>\n",
       "      <td>2.000000</td>\n",
       "      <td>12.000000</td>\n",
       "      <td>0.000000</td>\n",
       "      <td>8.100000</td>\n",
       "      <td>7.000000</td>\n",
       "      <td>67.000000</td>\n",
       "      <td>64.400000</td>\n",
       "      <td>64.000000</td>\n",
       "      <td>63.000000</td>\n",
       "    </tr>\n",
       "    <tr>\n",
       "      <th>75%</th>\n",
       "      <td>299999.250000</td>\n",
       "      <td>299999.250000</td>\n",
       "      <td>2.234019e+06</td>\n",
       "      <td>201.000000</td>\n",
       "      <td>3.000000</td>\n",
       "      <td>40.367809</td>\n",
       "      <td>-80.918633</td>\n",
       "      <td>41.380871</td>\n",
       "      <td>-82.343977</td>\n",
       "      <td>0.010000</td>\n",
       "      <td>...</td>\n",
       "      <td>0.000000</td>\n",
       "      <td>4.000000</td>\n",
       "      <td>16.000000</td>\n",
       "      <td>0.000000</td>\n",
       "      <td>10.400000</td>\n",
       "      <td>10.400000</td>\n",
       "      <td>84.000000</td>\n",
       "      <td>75.900000</td>\n",
       "      <td>75.900000</td>\n",
       "      <td>76.100450</td>\n",
       "    </tr>\n",
       "    <tr>\n",
       "      <th>max</th>\n",
       "      <td>399999.000000</td>\n",
       "      <td>399999.000000</td>\n",
       "      <td>2.974329e+06</td>\n",
       "      <td>406.000000</td>\n",
       "      <td>4.000000</td>\n",
       "      <td>49.000580</td>\n",
       "      <td>-67.606875</td>\n",
       "      <td>49.075000</td>\n",
       "      <td>-67.626605</td>\n",
       "      <td>333.630005</td>\n",
       "      <td>...</td>\n",
       "      <td>10.180000</td>\n",
       "      <td>6.000000</td>\n",
       "      <td>23.000000</td>\n",
       "      <td>10.180000</td>\n",
       "      <td>230.000000</td>\n",
       "      <td>230.000000</td>\n",
       "      <td>100.000000</td>\n",
       "      <td>168.800000</td>\n",
       "      <td>168.800000</td>\n",
       "      <td>180.315281</td>\n",
       "    </tr>\n",
       "  </tbody>\n",
       "</table>\n",
       "<p>8 rows × 27 columns</p>\n",
       "</div>"
      ],
      "text/plain": [
       "          Unnamed: 0   Unnamed: 0.1  Unnamed: 0.1.1            TMC  \\\n",
       "count  400000.000000  400000.000000    4.000000e+05  301701.000000   \n",
       "mean   199999.500000  199999.500000    1.490152e+06     207.841485   \n",
       "std    115470.198175  115470.198175    8.582070e+05      20.295358   \n",
       "min         0.000000       0.000000    1.200000e+01     200.000000   \n",
       "25%     99999.750000   99999.750000    7.474690e+05     201.000000   \n",
       "50%    199999.500000  199999.500000    1.491116e+06     201.000000   \n",
       "75%    299999.250000  299999.250000    2.234019e+06     201.000000   \n",
       "max    399999.000000  399999.000000    2.974329e+06     406.000000   \n",
       "\n",
       "            Severity      Start_Lat      Start_Lng       End_Lat  \\\n",
       "count  400000.000000  400000.000000  400000.000000  98299.000000   \n",
       "mean        2.360142      36.493190     -95.418894     37.599169   \n",
       "std         0.541752       4.919935      17.210788      5.002061   \n",
       "min         1.000000      24.570442    -124.497523     24.571534   \n",
       "25%         2.000000      33.552807    -117.291287     33.959787   \n",
       "50%         2.000000      35.844623     -90.288139     37.929230   \n",
       "75%         3.000000      40.367809     -80.918633     41.380871   \n",
       "max         4.000000      49.000580     -67.606875     49.075000   \n",
       "\n",
       "            End_Lng   Distance(mi)  ...  Precipitation(in)    Day_of_Week  \\\n",
       "count  98299.000000  400000.000000  ...      131252.000000  400000.000000   \n",
       "mean     -99.986740       0.287561  ...           0.019732       2.384245   \n",
       "std       18.415574       1.587642  ...           0.220855       1.713651   \n",
       "min     -124.497442       0.000000  ...           0.000000       0.000000   \n",
       "25%     -118.286333       0.000000  ...           0.000000       1.000000   \n",
       "50%      -96.628680       0.000000  ...           0.000000       2.000000   \n",
       "75%      -82.343977       0.010000  ...           0.000000       4.000000   \n",
       "max      -67.626605     333.630005  ...          10.180000       6.000000   \n",
       "\n",
       "         Hour_of_Day  Precipitation_filled  Wind_Speed_filled_mean  \\\n",
       "count  400000.000000         400000.000000           400000.000000   \n",
       "mean       12.105915              0.006475                8.305884   \n",
       "std         5.096637              0.126850                4.500350   \n",
       "min         0.000000              0.000000                0.000000   \n",
       "25%         8.000000              0.000000                5.800000   \n",
       "50%        12.000000              0.000000                8.100000   \n",
       "75%        16.000000              0.000000               10.400000   \n",
       "max        23.000000             10.180000              230.000000   \n",
       "\n",
       "       Wind_Speed_filled_median  Humidity_filled_mean  \\\n",
       "count             400000.000000         400000.000000   \n",
       "mean                   8.113276             65.398506   \n",
       "std                    4.524111             22.351643   \n",
       "min                    0.000000              1.000000   \n",
       "25%                    5.800000             49.000000   \n",
       "50%                    7.000000             67.000000   \n",
       "75%                   10.400000             84.000000   \n",
       "max                  230.000000            100.000000   \n",
       "\n",
       "       Temperature_filled_median  Temperature_filled_mean  \\\n",
       "count              400000.000000            400000.000000   \n",
       "mean                   62.405851                62.367451   \n",
       "std                    18.604781                18.602723   \n",
       "min                   -77.800000               -77.800000   \n",
       "25%                    51.000000                51.000000   \n",
       "50%                    64.400000                64.000000   \n",
       "75%                    75.900000                75.900000   \n",
       "max                   168.800000               168.800000   \n",
       "\n",
       "       Wind_Chill_predicted_filled  \n",
       "count                400000.000000  \n",
       "mean                     60.481534  \n",
       "std                      21.379503  \n",
       "min                    -105.272215  \n",
       "25%                      47.782983  \n",
       "50%                      63.000000  \n",
       "75%                      76.100450  \n",
       "max                     180.315281  \n",
       "\n",
       "[8 rows x 27 columns]"
      ]
     },
     "execution_count": 3,
     "metadata": {},
     "output_type": "execute_result"
    }
   ],
   "source": [
    "df.describe()"
   ]
  },
  {
   "cell_type": "code",
   "execution_count": 15,
   "metadata": {},
   "outputs": [
    {
     "data": {
      "text/plain": [
       "1.6448574363927408"
      ]
     },
     "execution_count": 15,
     "metadata": {},
     "output_type": "execute_result"
    }
   ],
   "source": [
    "alpha = 0.05\n",
    "critical_value = stats.t.ppf(1.0 - alpha, 399999)\n",
    "critical_value\n",
    "\n",
    "#  "
   ]
  },
  {
   "cell_type": "code",
   "execution_count": 18,
   "metadata": {},
   "outputs": [
    {
     "data": {
      "text/plain": [
       "0.0053009293627147985"
      ]
     },
     "execution_count": 18,
     "metadata": {},
     "output_type": "execute_result"
    }
   ],
   "source": [
    "test_statistic = np.mean(df.Temperature_filled_mean) / (np.std(df.Temperature_filled_mean) \\\n",
    "                                                    * np.sqrt(len(df.Temperature_filled_mean)))\n",
    "test_statistic"
   ]
  },
  {
   "cell_type": "code",
   "execution_count": null,
   "metadata": {},
   "outputs": [],
   "source": []
  },
  {
   "cell_type": "code",
   "execution_count": null,
   "metadata": {},
   "outputs": [],
   "source": []
  },
  {
   "cell_type": "code",
   "execution_count": null,
   "metadata": {},
   "outputs": [],
   "source": []
  },
  {
   "cell_type": "code",
   "execution_count": 33,
   "metadata": {},
   "outputs": [],
   "source": [
    "# ecdf function\n",
    "\n",
    "def ecdf(data):\n",
    "    \"\"\"compute ECDF for a one-dimentional array of measurements\"\"\"\n",
    "    # Number of data points:n\n",
    "    n = len(data)\n",
    "    # x-data for the ECDF: x\n",
    "    x = np.sort(data)\n",
    "    # y-data for the ECDF: y\n",
    "    y = np.arange(1, n+1) / n\n",
    "    return x, y"
   ]
  },
  {
   "cell_type": "code",
   "execution_count": 46,
   "metadata": {},
   "outputs": [],
   "source": [
    "# extract Series from Panda Dataframe\n",
    "temp = df['Temperature_filled_median']\n",
    "humi = df['Humidity_filled_mean']\n",
    "sev = df['Severity']"
   ]
  },
  {
   "cell_type": "code",
   "execution_count": 47,
   "metadata": {},
   "outputs": [
    {
     "data": {
      "text/plain": [
       "array([2, 3, 2, ..., 2, 3, 2], dtype=int64)"
      ]
     },
     "execution_count": 47,
     "metadata": {},
     "output_type": "execute_result"
    }
   ],
   "source": [
    "#Convert Series to 1D numpy array\n",
    "temp.to_numpy()\n",
    "humi.to_numpy()\n",
    "sev.to_numpy()"
   ]
  },
  {
   "cell_type": "code",
   "execution_count": 49,
   "metadata": {},
   "outputs": [
    {
     "data": {
      "image/png": "[encoded data removed]",
      "text/plain": [
       "<Figure size 432x288 with 1 Axes>"
      ]
     },
     "metadata": {},
     "output_type": "display_data"
    }
   ],
   "source": [
    "# Plot ECDF\n",
    "#sns.set(style=\"darkgrid\")\n",
    "\n",
    "x_temp, y_temp = ecdf(temp)\n",
    "x_humi, y_humi = ecdf(humi)\n",
    "\n",
    "_ = plt.plot(x_temp, y_temp, marker = '.', linestyle='none')\n",
    "_ = plt.plot(x_humi, y_humi, marker = '+', linestyle = 'none')\n",
    "\n",
    "plt.legend(('temperature', 'humidity'), loc='lower right')\n",
    "\n",
    "_ = plt.xlabel('Value')\n",
    "_ = plt.ylabel('ECDF')"
   ]
  },
  {
   "cell_type": "code",
   "execution_count": 44,
   "metadata": {},
   "outputs": [
    {
     "data": {
      "image/png": "[encoded data removed]",
      "text/plain": [
       "<Figure size 432x288 with 1 Axes>"
      ]
     },
     "metadata": {},
     "output_type": "display_data"
    }
   ],
   "source": [
    "x_sev, y_sev = ecdf(sev)\n",
    "_ = plt.plot(x_sev, y_sev, marker = '+', linestyle = 'none')\n",
    "_ = plt.xlabel('Severity')\n",
    "_ = plt.ylabel('ECDF')\n",
    "plt.show()"
   ]
  },
  {
   "cell_type": "code",
   "execution_count": 9,
   "metadata": {},
   "outputs": [
    {
     "data": {
      "image/png": "[encoded data removed]",
      "text/plain": [
       "<Figure size 648x360 with 1 Axes>"
      ]
     },
     "metadata": {
      "needs_background": "light"
     },
     "output_type": "display_data"
    }
   ],
   "source": [
    "# Severity mean values by State\n",
    "df.groupby('State')['Severity'].mean().sort_values().plot(kind='bar', figsize=(9,5), \\\n",
    "title=\"Severity Mean Values by State\");"
   ]
  },
  {
   "cell_type": "code",
   "execution_count": 19,
   "metadata": {},
   "outputs": [
    {
     "data": {
      "image/png": "[encoded data removed]",
      "text/plain": [
       "<Figure size 648x360 with 1 Axes>"
      ]
     },
     "metadata": {
      "needs_background": "light"
     },
     "output_type": "display_data"
    }
   ],
   "source": [
    "# Precipitation mean values by Severity\n",
    "df.groupby('Severity')['Precipitation_filled'].mean().sort_values().plot(kind='bar', figsize=(9,5), \\\n",
    "title=\"Precipitation Mean Values by Severity\");"
   ]
  },
  {
   "cell_type": "code",
   "execution_count": 27,
   "metadata": {},
   "outputs": [
    {
     "data": {
      "image/png": "[encoded data removed]",
      "text/plain": [
       "<Figure size 648x360 with 1 Axes>"
      ]
     },
     "metadata": {
      "needs_background": "light"
     },
     "output_type": "display_data"
    }
   ],
   "source": [
    "# Temperature mean values by Severity\n",
    "df.groupby('Severity')['Temperature_filled_median'].mean().sort_values().plot(kind='bar', figsize=(9,5), \\\n",
    "title=\"Temperature Mean Values by Severity\");"
   ]
  },
  {
   "cell_type": "code",
   "execution_count": 23,
   "metadata": {},
   "outputs": [
    {
     "data": {
      "image/png": "[encoded data removed]",
      "text/plain": [
       "<Figure size 648x360 with 1 Axes>"
      ]
     },
     "metadata": {
      "needs_background": "light"
     },
     "output_type": "display_data"
    }
   ],
   "source": [
    "# Wind_Chill mean values by Severity\n",
    "df.groupby('Severity')['Wind_Chill_predicted_filled'].mean().sort_values().plot(kind='bar', figsize=(9,5), \\\n",
    "title=\"Wind_Chill Mean Values by Severity\");"
   ]
  },
  {
   "cell_type": "code",
   "execution_count": 24,
   "metadata": {},
   "outputs": [
    {
     "data": {
      "image/png": "[encoded data removed]",
      "text/plain": [
       "<Figure size 648x360 with 1 Axes>"
      ]
     },
     "metadata": {
      "needs_background": "light"
     },
     "output_type": "display_data"
    }
   ],
   "source": [
    "# Humidity mean values by Severity\n",
    "df.groupby('Severity')['Humidity_filled_mean'].mean().sort_values().plot(kind='bar', figsize=(9,5), \\\n",
    "title=\"Humidity Mean Values by Severity\");"
   ]
  },
  {
   "cell_type": "code",
   "execution_count": 26,
   "metadata": {},
   "outputs": [
    {
     "data": {
      "image/png": "[encoded data removed]",
      "text/plain": [
       "<Figure size 648x360 with 1 Axes>"
      ]
     },
     "metadata": {
      "needs_background": "light"
     },
     "output_type": "display_data"
    }
   ],
   "source": [
    "# Wind_Speed mean values by Severity\n",
    "df.groupby('Severity')['Wind_Speed_filled_median'].mean().sort_values().plot(kind='bar', figsize=(9,5), \\\n",
    "title=\"Wind_Speed Mean Values by Severity\");"
   ]
  },
  {
   "cell_type": "code",
   "execution_count": null,
   "metadata": {},
   "outputs": [],
   "source": []
  },
  {
   "cell_type": "code",
   "execution_count": null,
   "metadata": {},
   "outputs": [],
   "source": []
  }
 ],
 "metadata": {
  "kernelspec": {
   "display_name": "Python 3",
   "language": "python",
   "name": "python3"
  },
  "language_info": {
   "codemirror_mode": {
    "name": "ipython",
    "version": 3
   },
   "file_extension": ".py",
   "mimetype": "text/x-python",
   "name": "python",
   "nbconvert_exporter": "python",
   "pygments_lexer": "ipython3",
   "version": "3.7.3"
  }
 },
 "nbformat": 4,
 "nbformat_minor": 2
}
