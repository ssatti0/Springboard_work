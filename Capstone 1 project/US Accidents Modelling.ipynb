{
 "cells": [
  {
   "cell_type": "markdown",
   "metadata": {},
   "source": [
    "# US Accidents Modelling"
   ]
  },
  {
   "cell_type": "markdown",
   "metadata": {},
   "source": [
    "## Data loading and copying\n",
    "## A) Manual Testing\n",
    "### + Data Preparation\n",
    "### + Cross-validation\n",
    "### + Lasso Hyperparameter Testing\n",
    "## B) Feature Testing\n",
    "### + Cross-validation with Optimized Parameters\n",
    "### + Linear Regression\n",
    "## C) Other Machine Learning Models:\n",
    "### + SGDRregressor\n",
    "### + KNNClassification\n",
    "### + LogisticRegression??\n",
    "### + Random Forest??"
   ]
  },
  {
   "cell_type": "code",
   "execution_count": 1,
   "metadata": {},
   "outputs": [],
   "source": [
    "import numpy as np\n",
    "import pandas as pd\n",
    "import matplotlib.pyplot as plt\n",
    "import seaborn as sns\n",
    "%matplotlib inline"
   ]
  },
  {
   "cell_type": "code",
   "execution_count": 2,
   "metadata": {},
   "outputs": [],
   "source": [
    "from sklearn.model_selection import ShuffleSplit\n",
    "from sklearn.model_selection import GridSearchCV\n",
    "from sklearn.model_selection import train_test_split\n",
    "from sklearn.model_selection import cross_val_score\n",
    "\n",
    "from sklearn.preprocessing import StandardScaler\n",
    "\n",
    "from sklearn.linear_model import LinearRegression\n",
    "from sklearn.linear_model import Lasso\n",
    "from sklearn.linear_model import Ridge\n",
    "\n",
    "#from sklearn.metrics import mean_squared_error\n"
   ]
  },
  {
   "cell_type": "markdown",
   "metadata": {},
   "source": [
    "## Load data and make a copy:"
   ]
  },
  {
   "cell_type": "code",
   "execution_count": 3,
   "metadata": {},
   "outputs": [],
   "source": [
    "df = pd.read_csv('dec19_400k_rs1_edt_fillna.csv')"
   ]
  },
  {
   "cell_type": "code",
   "execution_count": 4,
   "metadata": {},
   "outputs": [],
   "source": [
    "df.drop(['Unnamed: 0', 'Unnamed: 0.1'], axis=1, inplace=True)"
   ]
  },
  {
   "cell_type": "code",
   "execution_count": null,
   "metadata": {},
   "outputs": [],
   "source": [
    "#df.info()"
   ]
  },
  {
   "cell_type": "code",
   "execution_count": 5,
   "metadata": {},
   "outputs": [],
   "source": [
    "df_copy = df.copy() # make a copy of df"
   ]
  },
  {
   "cell_type": "code",
   "execution_count": 6,
   "metadata": {},
   "outputs": [],
   "source": [
    "#df_copy.info()"
   ]
  },
  {
   "cell_type": "markdown",
   "metadata": {},
   "source": [
    "## A) Manual Testing:"
   ]
  },
  {
   "cell_type": "markdown",
   "metadata": {},
   "source": [
    "#### Data Preparation for testing:"
   ]
  },
  {
   "cell_type": "code",
   "execution_count": 7,
   "metadata": {},
   "outputs": [],
   "source": [
    "# list of 'Blocks' of features used in testing:\n",
    "\n",
    "# Features excluded from model tests:\n",
    "excluded_features = ['ID', 'Source', 'TMC', 'End_Lat', 'End_Lng', 'Street', 'City', 'Country','Description',\n",
    "                     'Number','End_Time', 'County','Zipcode','Timezone', 'Airport_Code', \n",
    "                     'Civil_Twilight', 'Astronomical_Twilight', 'Nautical_Twilight', 'Weather_Timestamp',\n",
    "                    'Start_Time']\n",
    "\n",
    "# Basic numeric features:\n",
    "basic_features = ['Severity','Start_Lat', 'Start_Lng', 'Distance(mi)', 'Precipitation_filled',\n",
    "                 'Wind_Speed_filled_median', 'Humidity_filled_mean', 'Temperature_filled_mean',\n",
    "                 'Visibility_filled_mean', 'Pressure_filled_mean', 'Wind_Chill_predicted_filled']\n",
    "\n",
    "\n",
    "# Features replaced by *filled_mean or median:\n",
    "replaced_features = ['Temperature(F)', 'Wind_Chill(F)', 'Humidity(%)', 'Pressure(in)',\n",
    "                    'Visibility(mi)', 'Wind_Speed(mph)', 'Precipitation(in)',\n",
    "                    'Wind_Speed_filled_mean', 'Temperature_filled_median']\n",
    "\n",
    "# Traffic points of interest:\n",
    "features_all_points_of_interest_bool = ['Traffic_Signal', 'Junction', 'Amenity','Bump',\n",
    "                                    'Crossing','Give_Way','No_Exit', 'Railway','Roundabout',\n",
    "                                    'Stop','Station','Traffic_Calming','Turning_Loop']\n",
    "\n",
    "# wasnull features:\n",
    "features_weather_wasnull = ['Precipitation_wasnull','Wind_Chill_wasnull','Wind_Speed_wasnull',\n",
    "                            'Visibility_wasnull','Humidity_wasnull','Temperature_wasnull',\n",
    "                            'Pressure_wasnull']\n"
   ]
  },
  {
   "cell_type": "markdown",
   "metadata": {},
   "source": []
  },
  {
   "cell_type": "code",
   "execution_count": 8,
   "metadata": {},
   "outputs": [],
   "source": [
    "# test_batch1, containing 'Basic' numeric features:\n",
    "test_batch1 = df.loc[:,basic_features]\n",
    "\n",
    "# test_batch2, containing batch1 and other categorical features:\n",
    "test_batch2 = pd.get_dummies(pd.concat([test_batch1,df.loc[:,['Traffic_Signal','Junction','Rush_Hour',\n",
    "                                              'Side','Day_of_Week']]], axis=1))\n",
    "\n",
    "# test_batch3 is test_batch2 + States:\n",
    "test_batch3 = pd.get_dummies(pd.concat([test_batch2,df.loc[:,['State']]],axis=1))\n",
    "\n",
    "# test_batch4 is test_batch3 + All points of interest + wasnull\n",
    "temp1 = pd.concat([test_batch1, df.loc[:,features_all_points_of_interest_bool, \n",
    "                                       ]], axis=1)\n",
    "temp2 = pd.concat([temp1, df.loc[:, ['Rush_Hour', 'Side', 'Day_of_Week', 'State']]], axis=1)\n",
    "test_batch4 = pd.get_dummies(pd.concat([temp2, df.loc[:, features_weather_wasnull]], axis=1))\n",
    "\n",
    "# test_batch5 is test_batch4 - wasnull:\n",
    "test_batch5 = pd.get_dummies(temp2)\n"
   ]
  },
  {
   "cell_type": "markdown",
   "metadata": {},
   "source": [
    "#### Cross-validation"
   ]
  },
  {
   "cell_type": "code",
   "execution_count": null,
   "metadata": {},
   "outputs": [],
   "source": [
    "# Correlation between test_batch1 features and target:\n",
    "plt.figure(figsize=(14, 6))\n",
    "sns.heatmap(test_batch1.corr(),annot=True, cmap='BrBG',center=0);"
   ]
  },
  {
   "cell_type": "code",
   "execution_count": null,
   "metadata": {},
   "outputs": [],
   "source": [
    "# test_batch1, containing 'Basic' numeric features:\n",
    "test_batch1 = df.loc[:,basic_features]"
   ]
  },
  {
   "cell_type": "code",
   "execution_count": null,
   "metadata": {},
   "outputs": [],
   "source": [
    "# Split data into features and target data:\n",
    "X = test_batch1.iloc[:,1:]\n",
    "y = test_batch1.iloc[:,0]"
   ]
  },
  {
   "cell_type": "code",
   "execution_count": null,
   "metadata": {},
   "outputs": [],
   "source": [
    "\"\"\" Running cross-validation for all 3 regressions, using default parameters\"\"\"\n",
    "\n",
    "cv = ShuffleSplit(n_splits=5, test_size=0.3, random_state=12)\n",
    "\n",
    "cross_val_lr = cross_val_score(LinearRegression(), X, y, cv=cv)\n",
    "cross_val_lasso =  cross_val_score(Lasso(), X, y, cv=cv)\n",
    "cross_val_ridge = cross_val_score(Ridge(), X, y, cv=cv)\n"
   ]
  },
  {
   "cell_type": "code",
   "execution_count": null,
   "metadata": {},
   "outputs": [],
   "source": [
    "cross_val_all = pd.DataFrame([cross_val_lr,cross_val_lasso, cross_val_ridge], \n",
    "                             index=['LinearReg','Lasso', 'Ridge'], columns=['cv:1', '2', '3', '4','5'])\n",
    "cross_val_all"
   ]
  },
  {
   "cell_type": "markdown",
   "metadata": {},
   "source": [
    "The cross-validation test using the default hyperparameters shows LinearRegression and Ridge outperforming Lasso. The accuracy of all models, is very low. We will attempt to improve this through:<br>\n",
    "+ Adjusting the hyperparameters of each model, and\n",
    "+ Adding other features to the model."
   ]
  },
  {
   "cell_type": "markdown",
   "metadata": {},
   "source": [
    "#### Lasso Hyperparameter testing:"
   ]
  },
  {
   "cell_type": "code",
   "execution_count": null,
   "metadata": {},
   "outputs": [],
   "source": [
    "X_train,X_test, y_train, y_test = train_test_split(X, y, test_size=0.3, random_state=12)"
   ]
  },
  {
   "cell_type": "code",
   "execution_count": null,
   "metadata": {},
   "outputs": [],
   "source": [
    "norm = [True, False]\n",
    "\n",
    "for norm in normalizer:\n",
    "    #run Lasso using True / False\n",
    "    lasso = Lasso(alpha=0.01, normalize=norm, max_iter=100, selection='cyclic', \n",
    "                  fit_intercept=True, precompute=False, tol=0.0001)\n",
    "    lasso.fit(X_train,y_train)\n",
    "    lasso_pred = lasso.predict(X_test)\n",
    "    lasso.score(X_test,y_test)\n",
    "    print('Lasso Regression Test_set score for', norm ,'is', lasso.score(X_test,y_test))\n",
    "    print('Lasso Regression Train_set score for', norm, 'is', lasso.score(X_train, y_train))\n",
    "    print(\"Number of features used:\", len(lasso.coef_))\n",
    "    # plot results\n",
    "    plt.scatter(lasso_pred, y_test)\n",
    "    plt.xlabel(\"Predicted\")\n",
    "    plt.ylabel(\"Original\")\n",
    "    plt.title(norm)\n",
    "    plt.show()\n",
    "    "
   ]
  },
  {
   "cell_type": "markdown",
   "metadata": {},
   "source": [
    "### B) Feature Testing"
   ]
  },
  {
   "cell_type": "markdown",
   "metadata": {},
   "source": [
    "#### Cross-validation with Optimized Hyperparameters:"
   ]
  },
  {
   "cell_type": "code",
   "execution_count": 20,
   "metadata": {},
   "outputs": [],
   "source": [
    "# list of dataframes of feature combinations:\n",
    "dfs = [test_batch1, test_batch2, test_batch3, test_batch4, test_batch5]\n",
    "#dfs = [test_batch1, test_batch2]\n",
    "cross_val_avg_all=[]\n",
    "\n",
    "# loop through dataframes:\n",
    "for d in dfs:\n",
    "    \n",
    "    X = d.iloc[:,1:]\n",
    "    y = d.iloc[:,0]\n",
    "\n",
    "    \"\"\" Running cross-validation for all 3 regressions, using default parameters\"\"\"\n",
    "\n",
    "    cv = ShuffleSplit(n_splits=5, test_size=0.3, random_state=12)\n",
    "\n",
    "    cross_val_lr = cross_val_score(LinearRegression(), X, y, cv=cv)\n",
    "    cross_val_lasso =  cross_val_score(Lasso(alpha=0.01), X, y, cv=cv)\n",
    "    cross_val_ridge = cross_val_score(Ridge(alpha=0.01), X, y, cv=cv)\n",
    "\n",
    "    #Calculate mean of all 5batches of cross-validation for all feature dataframes:\n",
    "    cross_val_avg =[np.mean(cross_val_lr), np.mean(cross_val_lasso), np.mean(cross_val_ridge)]\n",
    "                           \n",
    "    cross_val_avg_all.append(cross_val_avg)\n",
    "\n",
    "#cross_val_all = pd.DataFrame([cross_val_lr,cross_val_lasso, cross_val_ridge], \n",
    "#                             index=['LinearReg','Lasso', 'Ridge'], columns=['cv:1', '2', '3', '4','5'])\n",
    "#cross_val_all"
   ]
  },
  {
   "cell_type": "code",
   "execution_count": 28,
   "metadata": {},
   "outputs": [
    {
     "data": {
      "text/html": [
       "<div>\n",
       "<style scoped>\n",
       "    .dataframe tbody tr th:only-of-type {\n",
       "        vertical-align: middle;\n",
       "    }\n",
       "\n",
       "    .dataframe tbody tr th {\n",
       "        vertical-align: top;\n",
       "    }\n",
       "\n",
       "    .dataframe thead th {\n",
       "        text-align: right;\n",
       "    }\n",
       "</style>\n",
       "<table border=\"1\" class=\"dataframe\">\n",
       "  <thead>\n",
       "    <tr style=\"text-align: right;\">\n",
       "      <th></th>\n",
       "      <th>batch1_score</th>\n",
       "      <th>batch2</th>\n",
       "      <th>batch3</th>\n",
       "      <th>batch4</th>\n",
       "      <th>batch5</th>\n",
       "    </tr>\n",
       "  </thead>\n",
       "  <tbody>\n",
       "    <tr>\n",
       "      <th>LinearReg</th>\n",
       "      <td>0.028692</td>\n",
       "      <td>0.108821</td>\n",
       "      <td>0.141902</td>\n",
       "      <td>0.146716</td>\n",
       "      <td>0.145245</td>\n",
       "    </tr>\n",
       "    <tr>\n",
       "      <th>Lasso</th>\n",
       "      <td>0.027517</td>\n",
       "      <td>0.088920</td>\n",
       "      <td>0.088920</td>\n",
       "      <td>0.089612</td>\n",
       "      <td>0.088920</td>\n",
       "    </tr>\n",
       "    <tr>\n",
       "      <th>Riddge</th>\n",
       "      <td>0.028692</td>\n",
       "      <td>0.108821</td>\n",
       "      <td>0.141902</td>\n",
       "      <td>0.146716</td>\n",
       "      <td>0.145245</td>\n",
       "    </tr>\n",
       "  </tbody>\n",
       "</table>\n",
       "</div>"
      ],
      "text/plain": [
       "           batch1_score    batch2    batch3    batch4    batch5\n",
       "LinearReg      0.028692  0.108821  0.141902  0.146716  0.145245\n",
       "Lasso          0.027517  0.088920  0.088920  0.089612  0.088920\n",
       "Riddge         0.028692  0.108821  0.141902  0.146716  0.145245"
      ]
     },
     "execution_count": 28,
     "metadata": {},
     "output_type": "execute_result"
    }
   ],
   "source": [
    "pd.DataFrame(cross_val_avg_all, index=['batch1_score', 'batch2', 'batch3', 'batch4', 'batch5'],\n",
    "             columns=['LinearReg', 'Lasso', 'Riddge']).transpose()"
   ]
  },
  {
   "cell_type": "markdown",
   "metadata": {},
   "source": [
    "From the cross-validations above, LinearRegression and Ridge have similar scores. Moving forward, a LinearRegression will be run using train and test datasets. To check the accuracy of the model, the following calculations are conducted:\n",
    "+ Train and test set scores.\n",
    "+ RMSE for both train and test data."
   ]
  },
  {
   "cell_type": "markdown",
   "metadata": {},
   "source": [
    "#### LinearRegression:"
   ]
  },
  {
   "cell_type": "code",
   "execution_count": null,
   "metadata": {},
   "outputs": [],
   "source": [
    "# Split data into features and target data:\n",
    "X = test_batch1.iloc[:,1:]\n",
    "y = test_batch1.iloc[:,0]"
   ]
  },
  {
   "cell_type": "code",
   "execution_count": null,
   "metadata": {},
   "outputs": [],
   "source": [
    "# Split data into train and test sets:\n",
    "X_train,X_test, y_train, y_test = train_test_split(X, y, test_size=0.3, random_state=12)"
   ]
  },
  {
   "cell_type": "code",
   "execution_count": null,
   "metadata": {},
   "outputs": [],
   "source": [
    "from sklearn import metrics"
   ]
  },
  {
   "cell_type": "code",
   "execution_count": null,
   "metadata": {},
   "outputs": [],
   "source": [
    "normalizer = [True, False]\n",
    "\n",
    "for norm in normalizer:\n",
    "    \n",
    "    lr = LinearRegression(normalize=norm, fit_intercept=True)\n",
    "    lr.fit(X_train,y_train)\n",
    "    lr_pred = lr.predict(X_test)\n",
    "    lr.score(X_test,y_test)\n",
    "    \n",
    "    #Calculate train/test score:\n",
    "    print('LinearRegression Test_set score for', norm ,'is', lr.score(X_test,y_test))\n",
    "    print('LinearRegression Train_set score for', norm, 'is', lr.score(X_train, y_train))\n",
    "    \n",
    "    # Calulate rmse:\n",
    "    rmse_test = np.sqrt(metrics.mean_squared_error(y_test, lr.predict(X_test)))\n",
    "    print('rmse of Test_set = ', rmse_test)\n",
    "    rmse_train = np.sqrt(metrics.mean_squared_error(y_train, lr.predict(X_train)))\n",
    "    print('rmse of Train_set = ', rmse_train)\n",
    "    \n",
    "    # plot test results\n",
    "    plt.scatter(lr_pred, y_test)\n",
    "    plt.xlabel(\"Predicted\")\n",
    "    plt.ylabel(\"Original\")\n",
    "    plt.title(norm)\n",
    "    plt.show()\n",
    "    "
   ]
  },
  {
   "cell_type": "markdown",
   "metadata": {},
   "source": [
    "In the linearRegression above, normalization does not change the output. This is possibly because of the close ranges in values of the features in the dataset.  For instance, categorical data ranges between (0,1), Precipitation has the range (0-10.1), Temperature (-77 to -168), Pressure (0.3 - 31), and Start_Lng(-124.49 to -67.6)."
   ]
  },
  {
   "cell_type": "markdown",
   "metadata": {},
   "source": [
    "### C) Other Machine Learning Models:"
   ]
  },
  {
   "cell_type": "markdown",
   "metadata": {},
   "source": [
    "#### SGDRegressor:"
   ]
  },
  {
   "cell_type": "code",
   "execution_count": 170,
   "metadata": {},
   "outputs": [],
   "source": [
    "from sklearn.linear_model import SGDRegressor"
   ]
  },
  {
   "cell_type": "code",
   "execution_count": 171,
   "metadata": {},
   "outputs": [],
   "source": [
    "# Split data into features and target data:\n",
    "X = test_batch5.iloc[:,1:]\n",
    "y = test_batch5.iloc[:,0]"
   ]
  },
  {
   "cell_type": "code",
   "execution_count": 172,
   "metadata": {},
   "outputs": [],
   "source": [
    "X_train, X_test, y_train, y_test = train_test_split(\n",
    "    X, y, test_size=0.3, random_state=12)"
   ]
  },
  {
   "cell_type": "code",
   "execution_count": 173,
   "metadata": {},
   "outputs": [
    {
     "name": "stderr",
     "output_type": "stream",
     "text": [
      "C:\\Users\\Toshiba\\Anaconda3\\lib\\site-packages\\sklearn\\preprocessing\\data.py:645: DataConversionWarning: Data with input dtype bool, uint8, float64 were all converted to float64 by StandardScaler.\n",
      "  return self.partial_fit(X, y)\n",
      "C:\\Users\\Toshiba\\Anaconda3\\lib\\site-packages\\ipykernel_launcher.py:4: DataConversionWarning: Data with input dtype bool, uint8, float64 were all converted to float64 by StandardScaler.\n",
      "  after removing the cwd from sys.path.\n",
      "C:\\Users\\Toshiba\\Anaconda3\\lib\\site-packages\\ipykernel_launcher.py:5: DataConversionWarning: Data with input dtype bool, uint8, float64 were all converted to float64 by StandardScaler.\n",
      "  \"\"\"\n"
     ]
    }
   ],
   "source": [
    "# Scale/normalize the data:\n",
    "scaler = StandardScaler()\n",
    "scaler.fit(X_train)\n",
    "Xn_train = scaler.transform(X_train)\n",
    "Xn_test = scaler.transform(X_test)"
   ]
  },
  {
   "cell_type": "code",
   "execution_count": 174,
   "metadata": {},
   "outputs": [],
   "source": [
    "sgdregres = SGDRegressor()"
   ]
  },
  {
   "cell_type": "code",
   "execution_count": null,
   "metadata": {},
   "outputs": [],
   "source": [
    "# Grid search to find optimum hyperparameters\n",
    "param_grid = {\n",
    "    'alpha': 10.0 ** -np.arange(0, 2),\n",
    "    'loss': ['huber', 'epsilon_insensitive', 'squared_loss'],\n",
    "    'penalty': ['l1', 'l2', 'elasticnet'],\n",
    "    'learning_rate': ['constant', 'optimal', 'invscaling'],\n",
    "}\n",
    "clf = GridSearchCV(sgdregres, param_grid, cv=5)\n",
    "clf.fit(Xn_train, y_train)\n",
    "print(clf.best_params_)\n",
    "print(\"Best score: \", str(clf.best_score_))"
   ]
  },
  {
   "cell_type": "code",
   "execution_count": null,
   "metadata": {},
   "outputs": [],
   "source": []
  },
  {
   "cell_type": "code",
   "execution_count": null,
   "metadata": {},
   "outputs": [],
   "source": [
    "# Run model with optimum Hyper parameters:\n",
    "sgdregres = SGDRegressor(alpha=1, learning_rate='optimal', loss='squared_loss', \n",
    "                      penalty='l2', random_state=12)\n",
    "# fit model:\n",
    "sgdregres.fit(Xn_train, y_train)\n",
    "\n",
    "# predict y:\n",
    "sgdregres_pred = sgdregres.predict(Xn_test)\n",
    "\n",
    "#Calculate score:\n",
    "sgdregres.score(Xn_test,y_test)\n",
    "print('SGD Regression Test_set score for Test is:', sgdregres.score(Xn_test,y_test))\n",
    "print('SGD Regression Train_set score for Train is:', sgdregres.score(Xn_train, y_train))\n",
    "print(\"Number of features used:\", len(sgdregres.coef_))\n",
    "\n",
    "# Calculate rmse:\n",
    "rmse_test = np.sqrt(metrics.mean_squared_error(y_test, sgdregres.predict(Xn_test)))\n",
    "print('rmse of Test_set = ', rmse_test)\n",
    "rmse_train = np.sqrt(metrics.mean_squared_error(y_train, sgdregres.predict(Xn_train)))\n",
    "print('rmse of Train_set = ', rmse_train)\n",
    "    \n",
    "# plot results\n",
    "plt.scatter(sgdregres_pred, y_test)\n",
    "plt.xlabel(\"Predicted\")\n",
    "plt.ylabel(\"Original\")\n",
    "plt.title('SGD Algorithm')\n",
    "plt.show()"
   ]
  },
  {
   "cell_type": "code",
   "execution_count": null,
   "metadata": {},
   "outputs": [],
   "source": []
  },
  {
   "cell_type": "markdown",
   "metadata": {},
   "source": [
    "#### KNN Classification:"
   ]
  },
  {
   "cell_type": "code",
   "execution_count": 175,
   "metadata": {},
   "outputs": [],
   "source": [
    "X_train, X_test, y_train, y_test = train_test_split(\n",
    "    test_batch1.iloc[:,1:3], test_batch1.iloc[:,0], test_size=0.3, random_state=12)"
   ]
  },
  {
   "cell_type": "code",
   "execution_count": 176,
   "metadata": {},
   "outputs": [],
   "source": [
    "# Scale/normalize the data:\n",
    "scaler = StandardScaler()\n",
    "scaler.fit(X_train)\n",
    "\n",
    "Xn_train = scaler.transform(X_train)\n",
    "Xn_test = scaler.transform(X_test)"
   ]
  },
  {
   "cell_type": "code",
   "execution_count": 58,
   "metadata": {},
   "outputs": [],
   "source": [
    "from sklearn.neighbors import KNeighborsClassifier"
   ]
  },
  {
   "cell_type": "code",
   "execution_count": 177,
   "metadata": {},
   "outputs": [],
   "source": [
    "# model\n",
    "\n",
    "classifier = KNeighborsClassifier(n_neighbors=3)\n",
    "classifier.fit(Xn_train, y_train)\n",
    "\n",
    "# fit model\n",
    "classifier.fit(Xn_train, y_train)\n",
    "\n",
    "# predict y\n",
    "classifier_pred = classifier.predict(Xn_test)\n"
   ]
  },
  {
   "cell_type": "code",
   "execution_count": 178,
   "metadata": {},
   "outputs": [
    {
     "name": "stdout",
     "output_type": "stream",
     "text": [
      "[[    0    33     5     0]\n",
      " [    9 68918 10688   683]\n",
      " [    0  8980 26675   277]\n",
      " [    0  2191   962   579]]\n",
      "              precision    recall  f1-score   support\n",
      "\n",
      "           1       0.00      0.00      0.00        38\n",
      "           2       0.86      0.86      0.86     80298\n",
      "           3       0.70      0.74      0.72     35932\n",
      "           4       0.38      0.16      0.22      3732\n",
      "\n",
      "   micro avg       0.80      0.80      0.80    120000\n",
      "   macro avg       0.48      0.44      0.45    120000\n",
      "weighted avg       0.80      0.80      0.80    120000\n",
      "\n"
     ]
    }
   ],
   "source": [
    "from sklearn.metrics import classification_report, confusion_matrix\n",
    "# calculate confusion_matrix and classification_report:\n",
    "\n",
    "print(confusion_matrix(y_test, classifier_pred))\n",
    "print(classification_report(y_test, classifier_pred))"
   ]
  },
  {
   "cell_type": "code",
   "execution_count": 179,
   "metadata": {},
   "outputs": [
    {
     "name": "stdout",
     "output_type": "stream",
     "text": [
      "KNN Test_set score is: 0.8014333333333333\n",
      "KNN Train_set score is: 0.879075\n"
     ]
    }
   ],
   "source": [
    "#Calculate score\n",
    "classifier.score(Xn_test,y_test)\n",
    "print('KNN Test_set score is:', classifier.score(Xn_test,y_test))\n",
    "print('KNN Train_set score is:', classifier.score(Xn_train, y_train))"
   ]
  },
  {
   "cell_type": "code",
   "execution_count": 169,
   "metadata": {},
   "outputs": [
    {
     "data": {
      "image/png": "[encoded data removed]",
      "text/plain": [
       "<Figure size 720x504 with 2 Axes>"
      ]
     },
     "metadata": {},
     "output_type": "display_data"
    }
   ],
   "source": [
    "# plot confusion matrix\n",
    "#data = confusion_matrix(y_test, classifier_pred)\n",
    "#df_cm = pd.DataFrame(data, columns=np.unique(y_true), index = np.unique(y_true))\n",
    "#df_cm.index.name = 'Actual'\n",
    "#df_cm.columns.name = 'Predicted'\n",
    "#plt.figure(figsize = (10,7))\n",
    "#sns.set(font_scale=1.4)#for label size\n",
    "#sns.heatmap(df_cm, cmap=\"Blues\", annot=True,annot_kws={\"size\": 12});"
   ]
  },
  {
   "cell_type": "code",
   "execution_count": 105,
   "metadata": {
    "scrolled": false
   },
   "outputs": [],
   "source": [
    "# Make two classes low[1 and 2], and high [3 and 4]:\n",
    "test_batch1_low_high = test_batch1.replace(to_replace={'Severity':{1:'low', 2:'low', 3:'high', 4:'high'}})"
   ]
  },
  {
   "cell_type": "code",
   "execution_count": 181,
   "metadata": {},
   "outputs": [
    {
     "ename": "ValueError",
     "evalue": "Shape of passed values is (4, 4), indices imply (2, 2)",
     "output_type": "error",
     "traceback": [
      "\u001b[1;31m---------------------------------------------------------------------------\u001b[0m",
      "\u001b[1;31mValueError\u001b[0m                                Traceback (most recent call last)",
      "\u001b[1;32m~\\Anaconda3\\lib\\site-packages\\pandas\\core\\internals\\managers.py\u001b[0m in \u001b[0;36mcreate_block_manager_from_blocks\u001b[1;34m(blocks, axes)\u001b[0m\n\u001b[0;32m   1650\u001b[0m                 blocks = [make_block(values=blocks[0],\n\u001b[1;32m-> 1651\u001b[1;33m                                      placement=slice(0, len(axes[0])))]\n\u001b[0m\u001b[0;32m   1652\u001b[0m \u001b[1;33m\u001b[0m\u001b[0m\n",
      "\u001b[1;32m~\\Anaconda3\\lib\\site-packages\\pandas\\core\\internals\\blocks.py\u001b[0m in \u001b[0;36mmake_block\u001b[1;34m(values, placement, klass, ndim, dtype, fastpath)\u001b[0m\n\u001b[0;32m   3094\u001b[0m \u001b[1;33m\u001b[0m\u001b[0m\n\u001b[1;32m-> 3095\u001b[1;33m     \u001b[1;32mreturn\u001b[0m \u001b[0mklass\u001b[0m\u001b[1;33m(\u001b[0m\u001b[0mvalues\u001b[0m\u001b[1;33m,\u001b[0m \u001b[0mndim\u001b[0m\u001b[1;33m=\u001b[0m\u001b[0mndim\u001b[0m\u001b[1;33m,\u001b[0m \u001b[0mplacement\u001b[0m\u001b[1;33m=\u001b[0m\u001b[0mplacement\u001b[0m\u001b[1;33m)\u001b[0m\u001b[1;33m\u001b[0m\u001b[1;33m\u001b[0m\u001b[0m\n\u001b[0m\u001b[0;32m   3096\u001b[0m \u001b[1;33m\u001b[0m\u001b[0m\n",
      "\u001b[1;32m~\\Anaconda3\\lib\\site-packages\\pandas\\core\\internals\\blocks.py\u001b[0m in \u001b[0;36m__init__\u001b[1;34m(self, values, placement, ndim)\u001b[0m\n\u001b[0;32m     86\u001b[0m                 \u001b[1;34m'Wrong number of items passed {val}, placement implies '\u001b[0m\u001b[1;33m\u001b[0m\u001b[1;33m\u001b[0m\u001b[0m\n\u001b[1;32m---> 87\u001b[1;33m                 '{mgr}'.format(val=len(self.values), mgr=len(self.mgr_locs)))\n\u001b[0m\u001b[0;32m     88\u001b[0m \u001b[1;33m\u001b[0m\u001b[0m\n",
      "\u001b[1;31mValueError\u001b[0m: Wrong number of items passed 4, placement implies 2",
      "\nDuring handling of the above exception, another exception occurred:\n",
      "\u001b[1;31mValueError\u001b[0m                                Traceback (most recent call last)",
      "\u001b[1;32m<ipython-input-181-affe95a002ad>\u001b[0m in \u001b[0;36m<module>\u001b[1;34m\u001b[0m\n\u001b[0;32m      1\u001b[0m \u001b[1;31m# plot confusion matrix\u001b[0m\u001b[1;33m\u001b[0m\u001b[1;33m\u001b[0m\u001b[1;33m\u001b[0m\u001b[0m\n\u001b[0;32m      2\u001b[0m \u001b[0mdata\u001b[0m \u001b[1;33m=\u001b[0m \u001b[0mconfusion_matrix\u001b[0m\u001b[1;33m(\u001b[0m\u001b[0my_test\u001b[0m\u001b[1;33m,\u001b[0m \u001b[0mclassifier_pred\u001b[0m\u001b[1;33m)\u001b[0m\u001b[1;33m\u001b[0m\u001b[1;33m\u001b[0m\u001b[0m\n\u001b[1;32m----> 3\u001b[1;33m \u001b[0mdf_cm\u001b[0m \u001b[1;33m=\u001b[0m \u001b[0mpd\u001b[0m\u001b[1;33m.\u001b[0m\u001b[0mDataFrame\u001b[0m\u001b[1;33m(\u001b[0m\u001b[0mdata\u001b[0m\u001b[1;33m,\u001b[0m \u001b[0mcolumns\u001b[0m\u001b[1;33m=\u001b[0m\u001b[0mnp\u001b[0m\u001b[1;33m.\u001b[0m\u001b[0munique\u001b[0m\u001b[1;33m(\u001b[0m\u001b[0my_true\u001b[0m\u001b[1;33m)\u001b[0m\u001b[1;33m,\u001b[0m \u001b[0mindex\u001b[0m \u001b[1;33m=\u001b[0m \u001b[0mnp\u001b[0m\u001b[1;33m.\u001b[0m\u001b[0munique\u001b[0m\u001b[1;33m(\u001b[0m\u001b[0my_true\u001b[0m\u001b[1;33m)\u001b[0m\u001b[1;33m)\u001b[0m\u001b[1;33m\u001b[0m\u001b[1;33m\u001b[0m\u001b[0m\n\u001b[0m\u001b[0;32m      4\u001b[0m \u001b[0mdf_cm\u001b[0m\u001b[1;33m.\u001b[0m\u001b[0mindex\u001b[0m\u001b[1;33m.\u001b[0m\u001b[0mname\u001b[0m \u001b[1;33m=\u001b[0m \u001b[1;33m[\u001b[0m\u001b[1;34m'Actual1'\u001b[0m\u001b[1;33m,\u001b[0m\u001b[1;34m'Actual2'\u001b[0m\u001b[1;33m,\u001b[0m\u001b[1;34m'Actual3'\u001b[0m\u001b[1;33m,\u001b[0m\u001b[1;34m'Actual4'\u001b[0m\u001b[1;33m]\u001b[0m\u001b[1;33m\u001b[0m\u001b[1;33m\u001b[0m\u001b[0m\n\u001b[0;32m      5\u001b[0m \u001b[0mdf_cm\u001b[0m\u001b[1;33m.\u001b[0m\u001b[0mcolumns\u001b[0m\u001b[1;33m.\u001b[0m\u001b[0mname\u001b[0m \u001b[1;33m=\u001b[0m \u001b[1;33m[\u001b[0m\u001b[1;34m'Predicted1'\u001b[0m\u001b[1;33m,\u001b[0m \u001b[1;34m'Predicted2'\u001b[0m\u001b[1;33m,\u001b[0m\u001b[1;34m'Predicted3'\u001b[0m\u001b[1;33m,\u001b[0m\u001b[1;34m'Predicted4'\u001b[0m\u001b[1;33m]\u001b[0m\u001b[1;33m\u001b[0m\u001b[1;33m\u001b[0m\u001b[0m\n",
      "\u001b[1;32m~\\Anaconda3\\lib\\site-packages\\pandas\\core\\frame.py\u001b[0m in \u001b[0;36m__init__\u001b[1;34m(self, data, index, columns, dtype, copy)\u001b[0m\n\u001b[0;32m    422\u001b[0m             \u001b[1;32melse\u001b[0m\u001b[1;33m:\u001b[0m\u001b[1;33m\u001b[0m\u001b[1;33m\u001b[0m\u001b[0m\n\u001b[0;32m    423\u001b[0m                 mgr = init_ndarray(data, index, columns, dtype=dtype,\n\u001b[1;32m--> 424\u001b[1;33m                                    copy=copy)\n\u001b[0m\u001b[0;32m    425\u001b[0m \u001b[1;33m\u001b[0m\u001b[0m\n\u001b[0;32m    426\u001b[0m         \u001b[1;31m# For data is list-like, or Iterable (will consume into list)\u001b[0m\u001b[1;33m\u001b[0m\u001b[1;33m\u001b[0m\u001b[1;33m\u001b[0m\u001b[0m\n",
      "\u001b[1;32m~\\Anaconda3\\lib\\site-packages\\pandas\\core\\internals\\construction.py\u001b[0m in \u001b[0;36minit_ndarray\u001b[1;34m(values, index, columns, dtype, copy)\u001b[0m\n\u001b[0;32m    165\u001b[0m         \u001b[0mvalues\u001b[0m \u001b[1;33m=\u001b[0m \u001b[0mmaybe_infer_to_datetimelike\u001b[0m\u001b[1;33m(\u001b[0m\u001b[0mvalues\u001b[0m\u001b[1;33m)\u001b[0m\u001b[1;33m\u001b[0m\u001b[1;33m\u001b[0m\u001b[0m\n\u001b[0;32m    166\u001b[0m \u001b[1;33m\u001b[0m\u001b[0m\n\u001b[1;32m--> 167\u001b[1;33m     \u001b[1;32mreturn\u001b[0m \u001b[0mcreate_block_manager_from_blocks\u001b[0m\u001b[1;33m(\u001b[0m\u001b[1;33m[\u001b[0m\u001b[0mvalues\u001b[0m\u001b[1;33m]\u001b[0m\u001b[1;33m,\u001b[0m \u001b[1;33m[\u001b[0m\u001b[0mcolumns\u001b[0m\u001b[1;33m,\u001b[0m \u001b[0mindex\u001b[0m\u001b[1;33m]\u001b[0m\u001b[1;33m)\u001b[0m\u001b[1;33m\u001b[0m\u001b[1;33m\u001b[0m\u001b[0m\n\u001b[0m\u001b[0;32m    168\u001b[0m \u001b[1;33m\u001b[0m\u001b[0m\n\u001b[0;32m    169\u001b[0m \u001b[1;33m\u001b[0m\u001b[0m\n",
      "\u001b[1;32m~\\Anaconda3\\lib\\site-packages\\pandas\\core\\internals\\managers.py\u001b[0m in \u001b[0;36mcreate_block_manager_from_blocks\u001b[1;34m(blocks, axes)\u001b[0m\n\u001b[0;32m   1658\u001b[0m         \u001b[0mblocks\u001b[0m \u001b[1;33m=\u001b[0m \u001b[1;33m[\u001b[0m\u001b[0mgetattr\u001b[0m\u001b[1;33m(\u001b[0m\u001b[0mb\u001b[0m\u001b[1;33m,\u001b[0m \u001b[1;34m'values'\u001b[0m\u001b[1;33m,\u001b[0m \u001b[0mb\u001b[0m\u001b[1;33m)\u001b[0m \u001b[1;32mfor\u001b[0m \u001b[0mb\u001b[0m \u001b[1;32min\u001b[0m \u001b[0mblocks\u001b[0m\u001b[1;33m]\u001b[0m\u001b[1;33m\u001b[0m\u001b[1;33m\u001b[0m\u001b[0m\n\u001b[0;32m   1659\u001b[0m         \u001b[0mtot_items\u001b[0m \u001b[1;33m=\u001b[0m \u001b[0msum\u001b[0m\u001b[1;33m(\u001b[0m\u001b[0mb\u001b[0m\u001b[1;33m.\u001b[0m\u001b[0mshape\u001b[0m\u001b[1;33m[\u001b[0m\u001b[1;36m0\u001b[0m\u001b[1;33m]\u001b[0m \u001b[1;32mfor\u001b[0m \u001b[0mb\u001b[0m \u001b[1;32min\u001b[0m \u001b[0mblocks\u001b[0m\u001b[1;33m)\u001b[0m\u001b[1;33m\u001b[0m\u001b[1;33m\u001b[0m\u001b[0m\n\u001b[1;32m-> 1660\u001b[1;33m         \u001b[0mconstruction_error\u001b[0m\u001b[1;33m(\u001b[0m\u001b[0mtot_items\u001b[0m\u001b[1;33m,\u001b[0m \u001b[0mblocks\u001b[0m\u001b[1;33m[\u001b[0m\u001b[1;36m0\u001b[0m\u001b[1;33m]\u001b[0m\u001b[1;33m.\u001b[0m\u001b[0mshape\u001b[0m\u001b[1;33m[\u001b[0m\u001b[1;36m1\u001b[0m\u001b[1;33m:\u001b[0m\u001b[1;33m]\u001b[0m\u001b[1;33m,\u001b[0m \u001b[0maxes\u001b[0m\u001b[1;33m,\u001b[0m \u001b[0me\u001b[0m\u001b[1;33m)\u001b[0m\u001b[1;33m\u001b[0m\u001b[1;33m\u001b[0m\u001b[0m\n\u001b[0m\u001b[0;32m   1661\u001b[0m \u001b[1;33m\u001b[0m\u001b[0m\n\u001b[0;32m   1662\u001b[0m \u001b[1;33m\u001b[0m\u001b[0m\n",
      "\u001b[1;32m~\\Anaconda3\\lib\\site-packages\\pandas\\core\\internals\\managers.py\u001b[0m in \u001b[0;36mconstruction_error\u001b[1;34m(tot_items, block_shape, axes, e)\u001b[0m\n\u001b[0;32m   1689\u001b[0m         \u001b[1;32mraise\u001b[0m \u001b[0mValueError\u001b[0m\u001b[1;33m(\u001b[0m\u001b[1;34m\"Empty data passed with indices specified.\"\u001b[0m\u001b[1;33m)\u001b[0m\u001b[1;33m\u001b[0m\u001b[1;33m\u001b[0m\u001b[0m\n\u001b[0;32m   1690\u001b[0m     raise ValueError(\"Shape of passed values is {0}, indices imply {1}\".format(\n\u001b[1;32m-> 1691\u001b[1;33m         passed, implied))\n\u001b[0m\u001b[0;32m   1692\u001b[0m \u001b[1;33m\u001b[0m\u001b[0m\n\u001b[0;32m   1693\u001b[0m \u001b[1;33m\u001b[0m\u001b[0m\n",
      "\u001b[1;31mValueError\u001b[0m: Shape of passed values is (4, 4), indices imply (2, 2)"
     ]
    }
   ],
   "source": [
    "# plot confusion matrix\n",
    "data = confusion_matrix(y_test, classifier_pred)\n",
    "df_cm = pd.DataFrame(data, columns=np.unique(y_true), index = np.unique(y_true))\n",
    "df_cm.index.name = ['Actual1','Actual2','Actual3','Actual4']\n",
    "df_cm.columns.name = ['Predicted1', 'Predicted2','Predicted3','Predicted4']\n",
    "plt.figure(figsize = (10,7))\n",
    "sns.set(font_scale=1.4)#for label size\n",
    "sns.heatmap(df_cm, cmap=\"Blues\", annot=True,annot_kws={\"size\": 12});"
   ]
  },
  {
   "cell_type": "code",
   "execution_count": 106,
   "metadata": {},
   "outputs": [],
   "source": [
    "#low = test_batch1[(test_batch1['Severity']== 1)| (test_batch1['Severity']== 2)]\n",
    "#high = test_batch1[(test_batch1['Severity']== 3)| (test_batch1['Severity']== 4)]\n",
    "#\n",
    "#print('Total low number of rows:', low.Severity.value_counts().sum()),\n",
    "#print('Total high number of rows:', high.Severity.value_counts().sum())"
   ]
  },
  {
   "cell_type": "code",
   "execution_count": 103,
   "metadata": {},
   "outputs": [],
   "source": []
  },
  {
   "cell_type": "markdown",
   "metadata": {},
   "source": [
    "#### Logistic Regression:"
   ]
  },
  {
   "cell_type": "markdown",
   "metadata": {},
   "source": [
    "#### Random Forest:"
   ]
  },
  {
   "cell_type": "code",
   "execution_count": null,
   "metadata": {},
   "outputs": [],
   "source": []
  }
 ],
 "metadata": {
  "kernelspec": {
   "display_name": "Python 3",
   "language": "python",
   "name": "python3"
  },
  "language_info": {
   "codemirror_mode": {
    "name": "ipython",
    "version": 3
   },
   "file_extension": ".py",
   "mimetype": "text/x-python",
   "name": "python",
   "nbconvert_exporter": "python",
   "pygments_lexer": "ipython3",
   "version": "3.7.3"
  }
 },
 "nbformat": 4,
 "nbformat_minor": 2
}
